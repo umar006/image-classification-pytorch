{
  "nbformat": 4,
  "nbformat_minor": 0,
  "metadata": {
    "accelerator": "GPU",
    "colab": {
      "name": "Project Expo.ipynb",
      "provenance": [],
      "collapsed_sections": [],
      "toc_visible": true,
      "include_colab_link": true
    },
    "kernelspec": {
      "display_name": "Python 3",
      "name": "python3"
    }
  },
  "cells": [
    {
      "cell_type": "markdown",
      "metadata": {
        "id": "view-in-github",
        "colab_type": "text"
      },
      "source": [
        "<a href=\"https://colab.research.google.com/github/umar006/image-classification-pytorch/blob/main/expo.ipynb\" target=\"_parent\"><img src=\"https://colab.research.google.com/assets/colab-badge.svg\" alt=\"Open In Colab\"/></a>"
      ]
    },
    {
      "cell_type": "markdown",
      "metadata": {
        "id": "Xx1_N4Mi2-0z"
      },
      "source": [
        "# Import libraries"
      ]
    },
    {
      "cell_type": "code",
      "metadata": {
        "colab": {
          "base_uri": "https://localhost:8080/"
        },
        "id": "FsYAInSpINv2",
        "outputId": "f2b48e45-2bac-4b14-f17a-36d0e4f66e7c"
      },
      "source": [
        "from google.colab import drive\n",
        "drive.mount('/content/drive')"
      ],
      "execution_count": null,
      "outputs": [
        {
          "output_type": "stream",
          "text": [
            "Mounted at /content/drive\n"
          ],
          "name": "stdout"
        }
      ]
    },
    {
      "cell_type": "code",
      "metadata": {
        "colab": {
          "base_uri": "https://localhost:8080/"
        },
        "id": "0PaqtUcF20qm",
        "outputId": "0921be12-fb24-43e6-b7a3-2b24799d85a8"
      },
      "source": [
        "# !pip install flickrapi\n",
        "\n",
        "import os, shutil, tarfile, time, requests, sys, csv, copy\n",
        "\n",
        "import numpy as np\n",
        "import pandas as pd\n",
        "\n",
        "import torch\n",
        "import torch.nn as nn\n",
        "import torch.optim as optim\n",
        "import torch.nn.functional as F\n",
        "\n",
        "import matplotlib.pyplot as plt\n",
        "\n",
        "from PIL import Image\n",
        "from glob import glob\n",
        "# from flickrapi import FlickrAPI\n",
        "from torch.utils.data import DataLoader\n",
        "from torchvision import transforms, datasets\n",
        "from sklearn.model_selection import train_test_split\n",
        "\n",
        "torch.manual_seed(123)"
      ],
      "execution_count": null,
      "outputs": [
        {
          "output_type": "execute_result",
          "data": {
            "text/plain": [
              "<torch._C.Generator at 0x7f89672a8fd8>"
            ]
          },
          "metadata": {
            "tags": []
          },
          "execution_count": 1
        }
      ]
    },
    {
      "cell_type": "markdown",
      "metadata": {
        "id": "EAEY4MTl3BeX"
      },
      "source": [
        "# Download dataset\n",
        "Scraping images from Flickr website using Flickr API, image tag that used to scrape for vehicles dataset\n",
        "\n",
        "1.   Airplane\n",
        "2.   Train\n",
        "3.   Car\n",
        "4.   Motorcycle\n",
        "5.   Bicycle\n",
        "6.   Bus\n",
        "7.   Truck\n",
        "8.   Scooter\n",
        "9.   Helicopter\n",
        "10.  Ship\n",
        "\n",
        "Each tag have > 900 images with total > 9k images.\n"
      ]
    },
    {
      "cell_type": "code",
      "metadata": {
        "id": "UrKxK7qz85hg"
      },
      "source": [
        "key=\"a1418519e8ce671c68f877f1401dde5f\"\n",
        "secret=\"343877ee8ed9fbba\"\n",
        "def get_urls(image_tag, MAX_COUNT):\n",
        "    flickr = FlickrAPI(key, secret)\n",
        "    photos = flickr.walk(text=image_tag,\n",
        "                            tag_mode='all',\n",
        "                            tags=image_tag,\n",
        "                            extras='url_c',\n",
        "                            per_page=50,\n",
        "                            sort='relevance')\n",
        "    count=0\n",
        "    urls=[]\n",
        "    for photo in photos:\n",
        "        if count< MAX_COUNT:\n",
        "            count=count+1\n",
        "            print(\"Fetching url for image number {}\".format(count))\n",
        "            try:\n",
        "                url=photo.get('url_c')\n",
        "                urls.append(url)\n",
        "            except:\n",
        "                print(\"Url for image number {} could not be fetched\".format(count))\n",
        "        else:\n",
        "            print(\"Done fetching urls, fetched {} urls out of {}\".format(len(urls),MAX_COUNT))\n",
        "            break\n",
        "    urls=pd.Series(urls)\n",
        "    print(\"Writing out the urls in the current directory\")\n",
        "    urls.to_csv(image_tag+\"_urls.csv\")\n",
        "    print(\"Done!!!\")\n",
        "\n",
        "def put_images(FILE_NAME):\n",
        "    urls=[]\n",
        "    with open(FILE_NAME,newline=\"\") as csvfile:\n",
        "        doc=csv.reader(csvfile,delimiter=\",\")\n",
        "        for row in doc:\n",
        "            if row[1].startswith(\"https\"):\n",
        "                urls.append(row[1])\n",
        "    if not os.path.isdir(os.path.join(os.getcwd(),FILE_NAME.split(\"_\")[0])):\n",
        "        os.mkdir(FILE_NAME.split(\"_\")[0])\n",
        "    t0=time.time()\n",
        "    \n",
        "    for url in enumerate(urls):\n",
        "        print(\"Starting download {} of \".format(url[0]+1),len(urls))\n",
        "        try:\n",
        "            resp=requests.get(url[1],stream=True)\n",
        "            path_to_write=os.path.join(os.getcwd(),FILE_NAME.split(\"_\")[0],url[1].split(\"/\")[-1])\n",
        "            outfile=open(path_to_write,'wb')\n",
        "            outfile.write(resp.content)\n",
        "            outfile.close()\n",
        "            print(\"Done downloading {} of {}\".format(url[0]+1,len(urls)))\n",
        "        except:\n",
        "            print(\"Failed to download url number {}\".format(url[0]))\n",
        "    t1=time.time()\n",
        "    print(\"Done with download, job took {} seconds\".format(t1-t0))"
      ],
      "execution_count": null,
      "outputs": []
    },
    {
      "cell_type": "markdown",
      "metadata": {
        "id": "yKJ2wNCb2Fl-"
      },
      "source": [
        "# Cleaning dataset\n",
        "check if file cannot used to train with Image function from PIL library.\n",
        "if file got *UnidentifiedImageError*, the file need to deleted"
      ]
    },
    {
      "cell_type": "code",
      "metadata": {
        "id": "ex6QDQca789B"
      },
      "source": [
        "def clean_file(path: list, del_file=False):\n",
        "  '''\n",
        "  Delete image file that can not open with Image function from PIL library\n",
        "\n",
        "  Param:\n",
        "  path -> list: full path image\n",
        "  del_file -> bool: delete image if True otherwise pass\n",
        "  '''\n",
        "  for p in path:\n",
        "    try:\n",
        "      img = Image.open(p)\n",
        "    except:\n",
        "      file = p.split('/')[-1]\n",
        "      print(f\"file {file} cannot open\")\n",
        "\n",
        "      if del_file:\n",
        "        os.remove(p)\n",
        "        print(f\"file {file} has been deleted\")\n",
        "  print('Done!')"
      ],
      "execution_count": null,
      "outputs": []
    },
    {
      "cell_type": "markdown",
      "metadata": {
        "id": "vzplwGgg9x6u"
      },
      "source": [
        "# Visualize dataset"
      ]
    },
    {
      "cell_type": "code",
      "metadata": {
        "id": "OdnOWlYM8iDC",
        "colab": {
          "base_uri": "https://localhost:8080/",
          "height": 231
        },
        "outputId": "69bb456c-8f17-449a-8b31-847a278fa2b3"
      },
      "source": [
        "\"\"\"Ubah root_dir ke folder vehicles di shared folder google drive\"\"\"\n",
        "root_dir = '/content/drive/MyDrive/dataset/'\n",
        "vehicles_dir = os.path.join(root_dir, 'vehicles')\n",
        "flowers_dir = os.path.join(root_dir, 'flowers')\n",
        "\n",
        "# VEHICLE\n",
        "cls_vh = [i for i in os.listdir(vehicles_dir) if os.path.isdir(os.path.join(vehicles_dir, i))]\n",
        "cls_vh = [i for i in cls_vh if i != 'training' and i != 'validation']\n",
        "value_vh = [len(os.listdir(os.path.join(vehicles_dir, i))) for i in cls_vh]\n",
        "\n",
        "# FLOWERS\n",
        "cls_fl = [i for i in os.listdir(flowers_dir) if os.path.isdir(os.path.join(flowers_dir, i))]\n",
        "cls_fl = [i for i in cls_fl if i != 'training' and i != 'validation']\n",
        "value_fl = [len(os.listdir(os.path.join(flowers_dir, i))) for i in cls_fl]"
      ],
      "execution_count": null,
      "outputs": [
        {
          "output_type": "error",
          "ename": "FileNotFoundError",
          "evalue": "ignored",
          "traceback": [
            "\u001b[0;31m---------------------------------------------------------------------------\u001b[0m",
            "\u001b[0;31mFileNotFoundError\u001b[0m                         Traceback (most recent call last)",
            "\u001b[0;32m<ipython-input-3-f364c60bf462>\u001b[0m in \u001b[0;36m<module>\u001b[0;34m()\u001b[0m\n\u001b[1;32m      5\u001b[0m \u001b[0;34m\u001b[0m\u001b[0m\n\u001b[1;32m      6\u001b[0m \u001b[0;31m# VEHICLE\u001b[0m\u001b[0;34m\u001b[0m\u001b[0;34m\u001b[0m\u001b[0;34m\u001b[0m\u001b[0m\n\u001b[0;32m----> 7\u001b[0;31m \u001b[0mcls_vh\u001b[0m \u001b[0;34m=\u001b[0m \u001b[0;34m[\u001b[0m\u001b[0mi\u001b[0m \u001b[0;32mfor\u001b[0m \u001b[0mi\u001b[0m \u001b[0;32min\u001b[0m \u001b[0mos\u001b[0m\u001b[0;34m.\u001b[0m\u001b[0mlistdir\u001b[0m\u001b[0;34m(\u001b[0m\u001b[0mvehicles_dir\u001b[0m\u001b[0;34m)\u001b[0m \u001b[0;32mif\u001b[0m \u001b[0mos\u001b[0m\u001b[0;34m.\u001b[0m\u001b[0mpath\u001b[0m\u001b[0;34m.\u001b[0m\u001b[0misdir\u001b[0m\u001b[0;34m(\u001b[0m\u001b[0mos\u001b[0m\u001b[0;34m.\u001b[0m\u001b[0mpath\u001b[0m\u001b[0;34m.\u001b[0m\u001b[0mjoin\u001b[0m\u001b[0;34m(\u001b[0m\u001b[0mvehicles_dir\u001b[0m\u001b[0;34m,\u001b[0m \u001b[0mi\u001b[0m\u001b[0;34m)\u001b[0m\u001b[0;34m)\u001b[0m\u001b[0;34m]\u001b[0m\u001b[0;34m\u001b[0m\u001b[0;34m\u001b[0m\u001b[0m\n\u001b[0m\u001b[1;32m      8\u001b[0m \u001b[0mcls_vh\u001b[0m \u001b[0;34m=\u001b[0m \u001b[0;34m[\u001b[0m\u001b[0mi\u001b[0m \u001b[0;32mfor\u001b[0m \u001b[0mi\u001b[0m \u001b[0;32min\u001b[0m \u001b[0mcls_vh\u001b[0m \u001b[0;32mif\u001b[0m \u001b[0mi\u001b[0m \u001b[0;34m!=\u001b[0m \u001b[0;34m'training'\u001b[0m \u001b[0;32mand\u001b[0m \u001b[0mi\u001b[0m \u001b[0;34m!=\u001b[0m \u001b[0;34m'validation'\u001b[0m\u001b[0;34m]\u001b[0m\u001b[0;34m\u001b[0m\u001b[0;34m\u001b[0m\u001b[0m\n\u001b[1;32m      9\u001b[0m \u001b[0mvalue_vh\u001b[0m \u001b[0;34m=\u001b[0m \u001b[0;34m[\u001b[0m\u001b[0mlen\u001b[0m\u001b[0;34m(\u001b[0m\u001b[0mos\u001b[0m\u001b[0;34m.\u001b[0m\u001b[0mlistdir\u001b[0m\u001b[0;34m(\u001b[0m\u001b[0mos\u001b[0m\u001b[0;34m.\u001b[0m\u001b[0mpath\u001b[0m\u001b[0;34m.\u001b[0m\u001b[0mjoin\u001b[0m\u001b[0;34m(\u001b[0m\u001b[0mvehicles_dir\u001b[0m\u001b[0;34m,\u001b[0m \u001b[0mi\u001b[0m\u001b[0;34m)\u001b[0m\u001b[0;34m)\u001b[0m\u001b[0;34m)\u001b[0m \u001b[0;32mfor\u001b[0m \u001b[0mi\u001b[0m \u001b[0;32min\u001b[0m \u001b[0mcls_vh\u001b[0m\u001b[0;34m]\u001b[0m\u001b[0;34m\u001b[0m\u001b[0;34m\u001b[0m\u001b[0m\n",
            "\u001b[0;31mFileNotFoundError\u001b[0m: [Errno 2] No such file or directory: '/content/drive/MyDrive/dataset/vehicles'"
          ]
        }
      ]
    },
    {
      "cell_type": "code",
      "metadata": {
        "colab": {
          "base_uri": "https://localhost:8080/",
          "height": 955
        },
        "id": "zeuf0SC391iV",
        "outputId": "d4bd9fcb-a152-4477-9fcb-6a0f06c7dfe3"
      },
      "source": [
        "# VEHICLES\n",
        "plt.figure(figsize=(28, 7))\n",
        "plt.subplot(121)\n",
        "plt.title('Vehicles', fontdict={'fontsize': 25, 'fontweight':'bold'})\n",
        "plt.bar(cls_vh, value_vh)\n",
        "plt.rc('xtick', labelsize=13)\n",
        "plt.rc('ytick', labelsize=13)\n",
        "plt.xlabel('Class', fontdict={'fontsize': 20})\n",
        "plt.ylabel('Total', fontdict={'fontsize': 20})\n",
        "\n",
        "# FLOWERS\n",
        "plt.figure(figsize=(28, 7))\n",
        "plt.subplot(122)\n",
        "plt.title('Flowers', fontdict={'fontsize': 25, 'fontweight':'bold'})\n",
        "plt.bar(cls_fl, value_fl)\n",
        "plt.rc('xtick', labelsize=13)\n",
        "plt.rc('ytick', labelsize=13)\n",
        "plt.xlabel('Class', fontdict={'fontsize': 20})\n",
        "plt.ylabel('Total', fontdict={'fontsize': 20})"
      ],
      "execution_count": null,
      "outputs": [
        {
          "output_type": "execute_result",
          "data": {
            "text/plain": [
              "Text(0, 0.5, 'Total')"
            ]
          },
          "metadata": {
            "tags": []
          },
          "execution_count": 4
        },
        {
          "output_type": "display_data",
          "data": {
            "image/png": "[encoded data removed]",
            "text/plain": [
              "<Figure size 2016x504 with 1 Axes>"
            ]
          },
          "metadata": {
            "tags": []
          }
        },
        {
          "output_type": "display_data",
          "data": {
            "image/png": "[encoded data removed]",
            "text/plain": [
              "<Figure size 2016x504 with 1 Axes>"
            ]
          },
          "metadata": {
            "tags": []
          }
        }
      ]
    },
    {
      "cell_type": "markdown",
      "metadata": {
        "id": "FMJhOLsH3HNY"
      },
      "source": [
        "# Split images\n",
        "Split dataset to train, validation \\\n",
        "```\n",
        "images\n",
        "  |_cls1\n",
        "  |_cls2\n",
        "  |_...\n",
        "```\n",
        "to\n",
        "```\n",
        "training\n",
        "  |_cls1\n",
        "  |_cls2\n",
        "  |_...\n",
        "validation\n",
        "  |_cls1\n",
        "  |_cls2\n",
        "  |_...\n",
        "```\n",
        "\n",
        "\n"
      ]
    },
    {
      "cell_type": "code",
      "metadata": {
        "id": "tb6djLQaL3J-"
      },
      "source": [
        "def split_folders(path, valid_size=0.2):\n",
        "  classes = [i for i in os.listdir(path) if os.path.isdir(os.path.join(path, i))]\n",
        "\n",
        "  train_dir = os.path.join(path, 'training')\n",
        "  valid_dir = os.path.join(path, 'validation')\n",
        "\n",
        "  os.makedirs(train_dir, exist_ok=True)\n",
        "  os.makedirs(valid_dir, exist_ok=True)\n",
        "\n",
        "  for cls in classes:\n",
        "    cls_path = os.path.join(path, cls)\n",
        "    train, valid = train_test_split(os.listdir(cls_path), test_size=valid_size, shuffle=True, random_state=123)\n",
        "\n",
        "    train_cls_path = os.path.join(train_dir, cls)\n",
        "    valid_cls_path = os.path.join(valid_dir, cls)\n",
        "    os.makedirs(train_cls_path, exist_ok=True)\n",
        "    os.makedirs(valid_cls_path, exist_ok=True)\n",
        "\n",
        "    for file in os.listdir(cls_path):\n",
        "      src = os.path.join(cls_path, file)\n",
        "      t_dest = os.path.join(train_cls_path, file)\n",
        "      v_dest = os.path.join(valid_cls_path, file)\n",
        "      if file in train:\n",
        "        shutil.copyfile(src, t_dest)\n",
        "      else:\n",
        "        shutil.copyfile(src, v_dest)\n",
        "    print(f'{cls} - done')\n",
        "\n",
        "  print('Done!')"
      ],
      "execution_count": null,
      "outputs": []
    },
    {
      "cell_type": "markdown",
      "metadata": {
        "id": "2-WpabUz3L-C"
      },
      "source": [
        "# Data augmentation"
      ]
    },
    {
      "cell_type": "code",
      "metadata": {
        "id": "WLjo85El2D-Y"
      },
      "source": [
        "BATCH_SIZE = 64\n",
        "IMG_SIZE = (128, 128)\n",
        "\n",
        "img_transformation = {\n",
        "      \"training\": transforms.Compose([\n",
        "          transforms.Resize(IMG_SIZE),\n",
        "          transforms.RandomHorizontalFlip(),\n",
        "          transforms.RandomCrop(128, padding=4),\n",
        "          transforms.ToTensor(),\n",
        "          transforms.Normalize(mean=[0.485, 0.456, 0.406],std=[0.229, 0.224, 0.225])\n",
        "      ]),\n",
        "      \"validation\": transforms.Compose([\n",
        "          transforms.Resize(IMG_SIZE),\n",
        "          transforms.ToTensor(),\n",
        "          transforms.Normalize(mean=[0.485, 0.456, 0.406],std=[0.229, 0.224, 0.225])\n",
        "      ])\n",
        "}\n",
        "\n",
        "data_dir = {'vehicles': {'training': os.path.join(vehicles_dir, 'training'),\n",
        "                         'validation': os.path.join(vehicles_dir, 'validation')},\n",
        "            'flowers': {'training': os.path.join(flowers_dir, 'training'),\n",
        "                        'validation': os.path.join(flowers_dir, 'validation')}}\n",
        "\n",
        "\n",
        "# Vehicles dataset\n",
        "train_vehicles_ds = datasets.ImageFolder(data_dir['vehicles']['training'], transform=img_transformation['training'])\n",
        "valid_vehicles_ds = datasets.ImageFolder(data_dir['vehicles']['validation'], transform=img_transformation['validation'])\n",
        "\n",
        "# # Flowers dataset\n",
        "train_flowers_ds = datasets.ImageFolder(data_dir['flowers']['training'], transform=img_transformation['training'])\n",
        "valid_flowers_ds = datasets.ImageFolder(data_dir['flowers']['validation'], transform=img_transformation['validation'])\n",
        "\n",
        "# Concenate two datasets (Vehicles and Flowers)\n",
        "train_mix_ds = train_vehicles_ds + train_flowers_ds\n",
        "valid_mix_ds = valid_vehicles_ds + valid_flowers_ds\n",
        "\n",
        "# # Concenate dataloader\n",
        "train_loader = DataLoader(train_mix_ds, batch_size=BATCH_SIZE, shuffle=True)\n",
        "valid_loader = DataLoader(valid_mix_ds, batch_size=BATCH_SIZE * 2, shuffle=False)\n",
        "\n",
        "class_list = train_vehicles_ds + train_flowers_ds\n",
        "classes = {i:j for i,j in enumerate(sorted(class_list))}\n",
        "classes"
      ],
      "execution_count": null,
      "outputs": []
    },
    {
      "cell_type": "markdown",
      "metadata": {
        "id": "MtG1O81H2WvX"
      },
      "source": [
        "# Architecture"
      ]
    },
    {
      "cell_type": "code",
      "metadata": {
        "id": "bfr5DcfRxcPe"
      },
      "source": [
        "def conv_block(in_f, out_f):\n",
        "  return nn.Sequential(\n",
        "      nn.Conv2d(in_f, out_f, kernel_size=3, padding=1),\n",
        "      nn.SELU()\n",
        "  )\n",
        "\n",
        "class VehicleNet(nn.Module):\n",
        "  def __init__(self):\n",
        "    super(VehicleNet, self).__init__()\n",
        "\n",
        "    self.encoder = nn.Sequential(\n",
        "      conv_block(3, 16),\n",
        "      conv_block(16, 16),\n",
        "      nn.MaxPool2d(3, padding=1),\n",
        "      conv_block(16, 16),\n",
        "      nn.MaxPool2d(3, padding=1),\n",
        "      conv_block(16, 32),\n",
        "      nn.MaxPool2d(3, padding=1),\n",
        "    )\n",
        "\n",
        "    self.decoder = nn.Sequential(\n",
        "      nn.Flatten(),\n",
        "      nn.Linear(5 * 5 * 32, 128),\n",
        "      nn.Dropout(0.5),\n",
        "      nn.Linear(128, 10)\n",
        "    )\n",
        "\n",
        "  def forward(self, input):\n",
        "    output = self.encoder(input)\n",
        "    output = self.decoder(output)\n",
        "\n",
        "    return F.softmax(output, 1)"
      ],
      "execution_count": null,
      "outputs": []
    },
    {
      "cell_type": "markdown",
      "metadata": {
        "id": "5MvYIwQf2dds"
      },
      "source": [
        "# Training"
      ]
    },
    {
      "cell_type": "code",
      "metadata": {
        "id": "J_SoFCsHRSQS"
      },
      "source": [
        "def valid(model):\n",
        "  model.eval()\n",
        "  with torch.no_grad():\n",
        "    valid_acc = 0.0\n",
        "    for i, (images, labels) in enumerate(valid_loader):\n",
        "      images, labels = images.cuda(), labels.cuda()\n",
        "      outputs = model(images)\n",
        "\n",
        "      prediction = torch.argmax(outputs, 1)\n",
        "      valid_acc += torch.sum(prediction == labels.data)\n",
        "\n",
        "    # calculate validation accuracy\n",
        "    valid_acc = valid_acc / len(valid_mix_ds)\n",
        "    return valid_acc\n",
        "\n",
        "def train(num_epochs, model, criterion, optimizer):\n",
        "  best_acc = 0.0\n",
        "  train_acc = 0.0\n",
        "  train_loss = 0.0\n",
        "\n",
        "  for epoch in range(num_epochs):\n",
        "    # get start training time\n",
        "    start = time.time()\n",
        "\n",
        "    # training model\n",
        "    model.train()\n",
        "    for i, (images, labels) in enumerate(train_loader):\n",
        "      images, labels = images.cuda(), labels.cuda()\n",
        "      \n",
        "      # zero the parameter gradients\n",
        "      optimizer.zero_grad()\n",
        "\n",
        "      # forward propagation\n",
        "      outputs = model(images)\n",
        "      prediction = torch.argmax(outputs, 1)\n",
        "      loss = criterion(outputs, labels)\n",
        "\n",
        "      # backward propagation + optimize\n",
        "      loss.backward()\n",
        "      optimizer.step()\n",
        "\n",
        "      # statistics\n",
        "      train_loss += loss.item() * images.size(0)\n",
        "      train_acc += torch.sum(prediction == labels.data)\n",
        "\n",
        "      if i % 50 == 0:\n",
        "        print(loss.item())\n",
        "    \n",
        "    # calculate training loss and accuracy\n",
        "    train_loss = train_loss / len(train_mix_ds)\n",
        "    train_acc = train_acc / len(train_mix_ds)\n",
        "\n",
        "    # evaluate model\n",
        "    valid_acc = valid(model)\n",
        "\n",
        "    # get end training time\n",
        "    stop = time.time()\n",
        "\n",
        "    # save the model if valid acc > best acc\n",
        "    if valid_acc > best_acc:\n",
        "      # remove best model that saved before\n",
        "      if os.path.exists(f\"vehiclesmodel{best_acc*100:.0f}(full).pth\"):\n",
        "        os.remove(f\"vehiclesmodel{best_acc*100:.0f}(full).pth\")\n",
        "        os.remove(f\"vehiclesmodel{best_acc*100:.0f}(state_dict).pth\")\n",
        "        \n",
        "      best_acc = valid_acc\n",
        "\n",
        "      # save state_dict model\n",
        "      torch.save(model, f\"vehiclesmodel{best_acc*100:.0f}(full).pth\")\n",
        "      # save entire model\n",
        "      torch.save(model.state_dict(), f\"vehiclesmodel{best_acc*100:.0f}(state_dict).pth\")\n",
        "      print(\"Checkpoint saved\")\n",
        "\n",
        "    print(f\"time: {round(stop - start)}s\\tepoch: {epoch + 1}\\ttrain_loss: {train_loss:.5f}\\ttrain_acc: {train_acc:.5f}\\tvalid_acc: {valid_acc:.5f}\")"
      ],
      "execution_count": null,
      "outputs": []
    },
    {
      "cell_type": "markdown",
      "metadata": {
        "id": "8ic4wUPcUeyT"
      },
      "source": [
        "## w/o TL"
      ]
    },
    {
      "cell_type": "code",
      "metadata": {
        "id": "-TlHY14J-iSh"
      },
      "source": [
        "model = VehicleNet().cuda()\n",
        "\n",
        "optimizer = optim.Adam(model.parameters(), lr=1e-3,weight_decay=1e-3)\n",
        "criterion = nn.CrossEntropyLoss()"
      ],
      "execution_count": null,
      "outputs": []
    },
    {
      "cell_type": "code",
      "metadata": {
        "id": "6j3pF-sWUAZu"
      },
      "source": [
        "%%time\n",
        "\n",
        "train(20, model, criterion, optimizer)"
      ],
      "execution_count": null,
      "outputs": []
    },
    {
      "cell_type": "markdown",
      "metadata": {
        "id": "lHDvqKSeUaf0"
      },
      "source": [
        "## w TL\n",
        "Use resnet18 as pretrained model with 20 classes"
      ]
    },
    {
      "cell_type": "code",
      "metadata": {
        "id": "NUNY7706-N7b"
      },
      "source": [
        "from torchvision.models import resnet18\n",
        "\n",
        "model_ft = resnet18(pretrained=True)\n",
        "num_ftrs = model_ft.fc.in_features\n",
        "model_ft.fc = nn.Linear(num_ftrs, 20)\n",
        "model_ft = model_ft.cuda()"
      ],
      "execution_count": null,
      "outputs": []
    },
    {
      "cell_type": "code",
      "metadata": {
        "id": "eMSd8qBufRe0"
      },
      "source": [
        "criterion = nn.CrossEntropyLoss()\n",
        "optimizer = optim.Adam(model_ft.parameters(), lr=0.0001, weight_decay=0.0001)\n",
        "\n",
        "train(10, model_ft, criterion, optimizer)"
      ],
      "execution_count": null,
      "outputs": []
    },
    {
      "cell_type": "markdown",
      "metadata": {
        "id": "LKgJnx7e0C6d"
      },
      "source": [
        "# Testing"
      ]
    },
    {
      "cell_type": "code",
      "metadata": {
        "id": "EfIlwXZ7UUub",
        "colab": {
          "base_uri": "https://localhost:8080/"
        },
        "outputId": "36a0a6f5-14e1-4520-b675-a34139de8707"
      },
      "source": [
        "checkpoint = torch.load('mixmodel97(state_dict).pth', map_location=torch.device('cpu'))\n",
        "model_test = model_ft\n",
        "model_test.load_state_dict(checkpoint)\n",
        "model_test.eval()"
      ],
      "execution_count": null,
      "outputs": [
        {
          "output_type": "execute_result",
          "data": {
            "text/plain": [
              "ResNet(\n",
              "  (conv1): Conv2d(3, 64, kernel_size=(7, 7), stride=(2, 2), padding=(3, 3), bias=False)\n",
              "  (bn1): BatchNorm2d(64, eps=1e-05, momentum=0.1, affine=True, track_running_stats=True)\n",
              "  (relu): ReLU(inplace=True)\n",
              "  (maxpool): MaxPool2d(kernel_size=3, stride=2, padding=1, dilation=1, ceil_mode=False)\n",
              "  (layer1): Sequential(\n",
              "    (0): BasicBlock(\n",
              "      (conv1): Conv2d(64, 64, kernel_size=(3, 3), stride=(1, 1), padding=(1, 1), bias=False)\n",
              "      (bn1): BatchNorm2d(64, eps=1e-05, momentum=0.1, affine=True, track_running_stats=True)\n",
              "      (relu): ReLU(inplace=True)\n",
              "      (conv2): Conv2d(64, 64, kernel_size=(3, 3), stride=(1, 1), padding=(1, 1), bias=False)\n",
              "      (bn2): BatchNorm2d(64, eps=1e-05, momentum=0.1, affine=True, track_running_stats=True)\n",
              "    )\n",
              "    (1): BasicBlock(\n",
              "      (conv1): Conv2d(64, 64, kernel_size=(3, 3), stride=(1, 1), padding=(1, 1), bias=False)\n",
              "      (bn1): BatchNorm2d(64, eps=1e-05, momentum=0.1, affine=True, track_running_stats=True)\n",
              "      (relu): ReLU(inplace=True)\n",
              "      (conv2): Conv2d(64, 64, kernel_size=(3, 3), stride=(1, 1), padding=(1, 1), bias=False)\n",
              "      (bn2): BatchNorm2d(64, eps=1e-05, momentum=0.1, affine=True, track_running_stats=True)\n",
              "    )\n",
              "  )\n",
              "  (layer2): Sequential(\n",
              "    (0): BasicBlock(\n",
              "      (conv1): Conv2d(64, 128, kernel_size=(3, 3), stride=(2, 2), padding=(1, 1), bias=False)\n",
              "      (bn1): BatchNorm2d(128, eps=1e-05, momentum=0.1, affine=True, track_running_stats=True)\n",
              "      (relu): ReLU(inplace=True)\n",
              "      (conv2): Conv2d(128, 128, kernel_size=(3, 3), stride=(1, 1), padding=(1, 1), bias=False)\n",
              "      (bn2): BatchNorm2d(128, eps=1e-05, momentum=0.1, affine=True, track_running_stats=True)\n",
              "      (downsample): Sequential(\n",
              "        (0): Conv2d(64, 128, kernel_size=(1, 1), stride=(2, 2), bias=False)\n",
              "        (1): BatchNorm2d(128, eps=1e-05, momentum=0.1, affine=True, track_running_stats=True)\n",
              "      )\n",
              "    )\n",
              "    (1): BasicBlock(\n",
              "      (conv1): Conv2d(128, 128, kernel_size=(3, 3), stride=(1, 1), padding=(1, 1), bias=False)\n",
              "      (bn1): BatchNorm2d(128, eps=1e-05, momentum=0.1, affine=True, track_running_stats=True)\n",
              "      (relu): ReLU(inplace=True)\n",
              "      (conv2): Conv2d(128, 128, kernel_size=(3, 3), stride=(1, 1), padding=(1, 1), bias=False)\n",
              "      (bn2): BatchNorm2d(128, eps=1e-05, momentum=0.1, affine=True, track_running_stats=True)\n",
              "    )\n",
              "  )\n",
              "  (layer3): Sequential(\n",
              "    (0): BasicBlock(\n",
              "      (conv1): Conv2d(128, 256, kernel_size=(3, 3), stride=(2, 2), padding=(1, 1), bias=False)\n",
              "      (bn1): BatchNorm2d(256, eps=1e-05, momentum=0.1, affine=True, track_running_stats=True)\n",
              "      (relu): ReLU(inplace=True)\n",
              "      (conv2): Conv2d(256, 256, kernel_size=(3, 3), stride=(1, 1), padding=(1, 1), bias=False)\n",
              "      (bn2): BatchNorm2d(256, eps=1e-05, momentum=0.1, affine=True, track_running_stats=True)\n",
              "      (downsample): Sequential(\n",
              "        (0): Conv2d(128, 256, kernel_size=(1, 1), stride=(2, 2), bias=False)\n",
              "        (1): BatchNorm2d(256, eps=1e-05, momentum=0.1, affine=True, track_running_stats=True)\n",
              "      )\n",
              "    )\n",
              "    (1): BasicBlock(\n",
              "      (conv1): Conv2d(256, 256, kernel_size=(3, 3), stride=(1, 1), padding=(1, 1), bias=False)\n",
              "      (bn1): BatchNorm2d(256, eps=1e-05, momentum=0.1, affine=True, track_running_stats=True)\n",
              "      (relu): ReLU(inplace=True)\n",
              "      (conv2): Conv2d(256, 256, kernel_size=(3, 3), stride=(1, 1), padding=(1, 1), bias=False)\n",
              "      (bn2): BatchNorm2d(256, eps=1e-05, momentum=0.1, affine=True, track_running_stats=True)\n",
              "    )\n",
              "  )\n",
              "  (layer4): Sequential(\n",
              "    (0): BasicBlock(\n",
              "      (conv1): Conv2d(256, 512, kernel_size=(3, 3), stride=(2, 2), padding=(1, 1), bias=False)\n",
              "      (bn1): BatchNorm2d(512, eps=1e-05, momentum=0.1, affine=True, track_running_stats=True)\n",
              "      (relu): ReLU(inplace=True)\n",
              "      (conv2): Conv2d(512, 512, kernel_size=(3, 3), stride=(1, 1), padding=(1, 1), bias=False)\n",
              "      (bn2): BatchNorm2d(512, eps=1e-05, momentum=0.1, affine=True, track_running_stats=True)\n",
              "      (downsample): Sequential(\n",
              "        (0): Conv2d(256, 512, kernel_size=(1, 1), stride=(2, 2), bias=False)\n",
              "        (1): BatchNorm2d(512, eps=1e-05, momentum=0.1, affine=True, track_running_stats=True)\n",
              "      )\n",
              "    )\n",
              "    (1): BasicBlock(\n",
              "      (conv1): Conv2d(512, 512, kernel_size=(3, 3), stride=(1, 1), padding=(1, 1), bias=False)\n",
              "      (bn1): BatchNorm2d(512, eps=1e-05, momentum=0.1, affine=True, track_running_stats=True)\n",
              "      (relu): ReLU(inplace=True)\n",
              "      (conv2): Conv2d(512, 512, kernel_size=(3, 3), stride=(1, 1), padding=(1, 1), bias=False)\n",
              "      (bn2): BatchNorm2d(512, eps=1e-05, momentum=0.1, affine=True, track_running_stats=True)\n",
              "    )\n",
              "  )\n",
              "  (avgpool): AdaptiveAvgPool2d(output_size=(1, 1))\n",
              "  (fc): Linear(in_features=512, out_features=20, bias=True)\n",
              ")"
            ]
          },
          "metadata": {
            "tags": []
          },
          "execution_count": 27
        }
      ]
    },
    {
      "cell_type": "code",
      "metadata": {
        "colab": {
          "resources": {
            "http://localhost:8080/nbextensions/google.colab/files.js": {
              "data": "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",
              "ok": true,
              "headers": [
                [
                  "content-type",
                  "application/javascript"
                ]
              ],
              "status": 200,
              "status_text": ""
            }
          },
          "base_uri": "https://localhost:8080/",
          "height": 72
        },
        "id": "qL3OclqTBV_4",
        "outputId": "2581fe64-f743-496f-deed-2b749ed656d3"
      },
      "source": [
        "from google.colab import files\n",
        "uploaded = files.upload()"
      ],
      "execution_count": null,
      "outputs": [
        {
          "output_type": "display_data",
          "data": {
            "text/html": [
              "\n",
              "     <input type=\"file\" id=\"files-4483459a-aedc-483a-b100-60fb95039de3\" name=\"files[]\" multiple disabled\n",
              "        style=\"border:none\" />\n",
              "     <output id=\"result-4483459a-aedc-483a-b100-60fb95039de3\">\n",
              "      Upload widget is only available when the cell has been executed in the\n",
              "      current browser session. Please rerun this cell to enable.\n",
              "      </output>\n",
              "      <script src=\"/nbextensions/google.colab/files.js\"></script> "
            ],
            "text/plain": [
              "<IPython.core.display.HTML object>"
            ]
          },
          "metadata": {
            "tags": []
          }
        },
        {
          "output_type": "stream",
          "text": [
            "Saving 42.jpeg to 42.jpeg\n"
          ],
          "name": "stdout"
        }
      ]
    },
    {
      "cell_type": "code",
      "metadata": {
        "colab": {
          "base_uri": "https://localhost:8080/"
        },
        "id": "PxvT1nZdwIKl",
        "outputId": "218c2e18-922d-4ab4-b8c1-b633e70743b6"
      },
      "source": [
        "for i, fn in enumerate(uploaded.keys()):\n",
        "  img = Image.open(fn)\n",
        "  img_trans = img_transformation['validation'](img)\n",
        "  output = model_test(img_trans.unsqueeze(0))\n",
        "  pred = torch.argmax(output, 1)\n",
        "  print(pred)\n",
        "  # plt.subplot(1, 3, 1+i)\n",
        "  # plt.imshow(img)\n",
        "  # plt.subplots_adjust(right=3, top=5, bottom=2)\n",
        "  # plt.title(train_vehicles_ds.classes[pred])"
      ],
      "execution_count": null,
      "outputs": [
        {
          "output_type": "stream",
          "text": [
            "tensor([16])\n"
          ],
          "name": "stdout"
        }
      ]
    }
  ]
}